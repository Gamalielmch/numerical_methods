{
 "cells": [
  {
   "cell_type": "code",
   "execution_count": 38,
   "id": "1ae4115c-7350-4db9-802f-68130355d0b7",
   "metadata": {},
   "outputs": [],
   "source": [
    "import numpy as np"
   ]
  },
  {
   "cell_type": "markdown",
   "id": "1d122825-25ee-412d-9587-cccef3e29a37",
   "metadata": {},
   "source": [
    "Sistema de ecuaciones de 2x2\n",
    "\n",
    "$\\begin{equation*} \\begin{matrix} 2x & +y &=7 \\\\ x & +2y &=8 \\end{matrix} \\end{equation*}$\n",
    "\n"
   ]
  },
  {
   "cell_type": "code",
   "execution_count": 37,
   "id": "f39e3bd5-8c1b-422d-afba-f8fd24d55ab1",
   "metadata": {},
   "outputs": [
    {
     "name": "stdout",
     "output_type": "stream",
     "text": [
      "Solución: x=2.000000 y= 3.000000\n"
     ]
    }
   ],
   "source": [
    "#1.-introducir datos de la matriz \n",
    "s=np.array([[2,1,7],[1,2,8]]).astype(np.float32)\n",
    "#s=np.array([[3,2,4],[5,-4,6]]).astype(np.float32)\n",
    "#2.- hacer uno el pivote del primer elemento de la diagonal\n",
    "s[0,:]=s[0,:]/s[0,0]\n",
    "#3.- multiplicar por el inverso aditivo el pivote y sumar al renglon 2\n",
    "s[1,:]=s[1,:]+(s[0,:]*-s[1,0])\n",
    "#4.- hacer uno el pivote del segundo elemento de la diagonal \n",
    "s[1,:]=s[1,:]/s[1,1]\n",
    "#5.- multiplicar por el inverso aditivo el pivote y sumar al renglon 1\n",
    "s[0,:]=s[0,:]+(s[1,:]*-s[0,1])\n",
    "# print(s)\n",
    "print(\"Solución: x=%f y= %f\" %(s[0,2],s[1,2]) )\n",
    "\n",
    "\n"
   ]
  },
  {
   "cell_type": "markdown",
   "id": "c77bb46d-d589-40d4-bdf5-ebbc36710d9f",
   "metadata": {},
   "source": [
    "Sistema de ecuaciones de 3x3\n",
    "\n",
    "$\\begin{equation*} \\begin{matrix} 3x & -2y & +5z &=38 \\\\ 2x & +4y & -z &=-7 \\\\ -7x & -3y & +4z &=5 \\end{matrix} \\end{equation*}$\n",
    "\n"
   ]
  },
  {
   "cell_type": "code",
   "execution_count": 26,
   "id": "3cbb627a-dc3d-46b2-9bb3-99b895c4ab59",
   "metadata": {},
   "outputs": [
    {
     "name": "stdout",
     "output_type": "stream",
     "text": [
      "[[ 1.        0.        0.        3.      ]\n",
      " [ 0.        1.        0.       -2.000001]\n",
      " [ 0.        0.        1.        5.      ]]\n",
      "Solución: x=3.000000 y= -2.000001, z=5.000000\n"
     ]
    }
   ],
   "source": [
    "#1.-introducir datos de la matriz \n",
    "s=np.array([[3,-2,5,38],[2,4,-1,-7],[-7,-3,4,5]]).astype(np.float32)\n",
    "#s=np.array([[3,2,4],[5,-4,6]]).astype(np.float32)\n",
    "\n",
    "#2.- hacer uno el pivote del primer elemento de la diagonal\n",
    "s[0,:]=s[0,:]/s[0,0]\n",
    "\n",
    "#3.- multiplicar por el inverso aditivo el pivote y sumar al renglon 2 y 3\n",
    "s[1,:]=(s[0,:]*-s[1,0])+s[1,:]\n",
    "s[2,:]=(s[0,:]*-s[2,0])+s[2,:]\n",
    "\n",
    "\n",
    "#4.- hacer uno el pivote del segundo elemento de la diagonal \n",
    "s[1,:]=s[1,:]/s[1,1]\n",
    "\n",
    "#5.- multiplicar por el inverso aditivo el pivote y sumar al renglon 1 y 3\n",
    "s[0,:]=(s[1,:]*-s[0,1])+s[0,:]\n",
    "s[2,:]=(s[1,:]*-s[2,1])+s[2,:]\n",
    "\n",
    "# #6.- hacer uno el pivote del tercer elemento de la diagonal \n",
    "s[2,:]=s[2,:]/s[2,2]\n",
    "\n",
    "#6.- multiplicar por el inverso aditivo el pivote y sumar al renglon 1 y 2\n",
    "s[0,:]=(s[2,:]*-s[0,2])+s[0,:]\n",
    "s[1,:]=(s[2,:]*-s[1,2])+s[1,:]\n",
    "\n",
    "print(s)\n",
    "print(\"Solución: x=%f y= %f, z=%f\" %(s[0,3],s[1,3],s[2,3]) )\n"
   ]
  },
  {
   "cell_type": "code",
   "execution_count": 23,
   "id": "465f9bf9-5750-4259-a3f2-166476f57ec1",
   "metadata": {},
   "outputs": [
    {
     "name": "stdout",
     "output_type": "stream",
     "text": [
      "38\n",
      "-7\n",
      "5\n"
     ]
    }
   ],
   "source": [
    "x,y,z=3,-2,5\n",
    "print(3*x-2*y+5*z)\n",
    "print(2*x +4*y-z)\n",
    "print(-7*x-3*y+4*z)"
   ]
  },
  {
   "cell_type": "markdown",
   "id": "964f5e5a-a3da-40e0-bef5-adb9f0d962e8",
   "metadata": {},
   "source": [
    "$\\int_{-\\infty}^{\\infty} e^{-x^{2}}dx $"
   ]
  },
  {
   "cell_type": "code",
   "execution_count": null,
   "id": "b1f71fec-3c59-49f5-8c1d-bd14543c1f7e",
   "metadata": {},
   "outputs": [],
   "source": []
  }
 ],
 "metadata": {
  "kernelspec": {
   "display_name": "Python 3 (ipykernel)",
   "language": "python",
   "name": "python3"
  },
  "language_info": {
   "codemirror_mode": {
    "name": "ipython",
    "version": 3
   },
   "file_extension": ".py",
   "mimetype": "text/x-python",
   "name": "python",
   "nbconvert_exporter": "python",
   "pygments_lexer": "ipython3",
   "version": "3.8.8"
  }
 },
 "nbformat": 4,
 "nbformat_minor": 5
}

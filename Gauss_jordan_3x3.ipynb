{
 "cells": [
  {
   "cell_type": "code",
   "execution_count": null,
   "id": "9f2824a8-47e4-4321-88fc-36e0f43fbbfb",
   "metadata": {},
   "outputs": [],
   "source": [
    "import numpy as np"
   ]
  },
  {
   "cell_type": "code",
   "execution_count": 17,
   "id": "20e78242-903a-427f-aa5d-a13d62eb59b9",
   "metadata": {},
   "outputs": [
    {
     "name": "stdout",
     "output_type": "stream",
     "text": [
      "solución: x=3.000000, y=-2.000001, z=5.000000\n"
     ]
    }
   ],
   "source": [
    "s=np.array([[3,-2,5,38],[2,4,-1,-7],[-7,-3,4,5]]).astype(np.float32)\n",
    "#paso 1. hacer unitario el primer pivote\n",
    "s[0,:]=s[0,:]/s[0,0]\n",
    "\n",
    "#paso 2, hacer cero el primer elemento del renglon 2\n",
    "s[1,:]=s[1,:]+(s[0,:]*-s[1,0])\n",
    "\n",
    "#paso 3, hacer cero el primer elemento del renglon 3\n",
    "s[2,:]=s[2,:]+(s[0,:]*-s[2,0])\n",
    "\n",
    "#paso 4. hacer unitario el segundo pivote\n",
    "s[1,:]=s[1,:]/s[1,1]\n",
    "\n",
    "#paso 5. hacer cero el segundo elemento del primer renglon\n",
    "s[0,:]=s[0,:]+(s[1,:]*-s[0,1])\n",
    "\n",
    "#paso 6. hacer cero el segundo elemento del tercer renglon\n",
    "s[2,:]=s[2,:]+(s[1,:]*-s[2,1])\n",
    "\n",
    "#paso 7. hacer unitario el tercer pivote\n",
    "s[2,:]=s[2,:]/s[2,2]\n",
    "\n",
    "#paso 8. hacer cero el tercer elemento del primer renglon\n",
    "s[0,:]=s[0,:]+(s[2,:]*-s[0,2])\n",
    "\n",
    "#paso 9. hacer cero el tercer elemento del segundo renglon\n",
    "s[1,:]=s[1,:]+(s[2,:]*-s[1,2])\n",
    "\n",
    "print(\"solución: x=%f, y=%f, z=%f\" %(s[0,3],s[1,3],s[2,3]) )"
   ]
  },
  {
   "cell_type": "markdown",
   "id": "d694b2ce-5192-409e-92c6-96e23cbcb771",
   "metadata": {},
   "source": [
    "$\\begin{equation*} \\begin{matrix} 3x & -2y & +5z &=38 \\\\ 2x & +4y & -z &=-7 \\\\ -7x & -3y & +4z &=5 \\end{matrix} \\end{equation*}$"
   ]
  },
  {
   "cell_type": "code",
   "execution_count": null,
   "id": "f7d8096d-7ee7-405f-91e1-3b4e34dc47dd",
   "metadata": {},
   "outputs": [],
   "source": []
  }
 ],
 "metadata": {
  "kernelspec": {
   "display_name": "Python 3 (ipykernel)",
   "language": "python",
   "name": "python3"
  },
  "language_info": {
   "codemirror_mode": {
    "name": "ipython",
    "version": 3
   },
   "file_extension": ".py",
   "mimetype": "text/x-python",
   "name": "python",
   "nbconvert_exporter": "python",
   "pygments_lexer": "ipython3",
   "version": "3.8.8"
  }
 },
 "nbformat": 4,
 "nbformat_minor": 5
}

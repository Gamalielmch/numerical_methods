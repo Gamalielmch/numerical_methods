{
 "cells": [
  {
   "cell_type": "code",
   "execution_count": 1,
   "id": "6ef3c38b-a107-408d-b917-61047c7cb161",
   "metadata": {},
   "outputs": [],
   "source": [
    "import numpy as np"
   ]
  },
  {
   "cell_type": "markdown",
   "id": "00dd8a55-a456-44ff-828a-9cdd5e5ec313",
   "metadata": {},
   "source": [
    "Sistema de ecuaciones de 3x3\n",
    "\n",
    "$\\begin{equation*} \\begin{matrix} 3x & -y & -z &=1 \\\\ -x & +3y & +z &=3 \\\\ 2x & +y & +4z &=7 \\end{matrix} \\end{equation*}$\n",
    "\n"
   ]
  },
  {
   "cell_type": "code",
   "execution_count": 2,
   "id": "e10e0b77-727c-45e0-8e0e-46e502f8b8c5",
   "metadata": {},
   "outputs": [
    {
     "name": "stdout",
     "output_type": "stream",
     "text": [
      "[[0.33333333 0.         0.        ]\n",
      " [0.         0.33333333 0.        ]\n",
      " [0.         0.         0.25      ]]\n",
      "[[ 0. -1. -1.]\n",
      " [-1.  0.  1.]\n",
      " [ 2.  1.  0.]]\n",
      "[[1.]\n",
      " [3.]\n",
      " [7.]]\n"
     ]
    }
   ],
   "source": [
    "#1.-introducir datos de la matriz \n",
    "s=np.array([[3,-1,-1,1],[-1,3,1,3],[2,1,4,7]]).astype(np.float32)\n",
    "#s=np.array([[3,2,4],[5,-4,6]]).astype(np.float32)\n",
    "\n",
    "# Matriz  D inversa\n",
    "Di=np.zeros((3,3))\n",
    "Di[0,0]=1/s[0,0]\n",
    "Di[1,1]=1/s[1,1]\n",
    "Di[2,2]=1/s[2,2]\n",
    "print(Di)\n",
    "\n",
    "# Matriz  L+U\n",
    "LU=s[0:3,0:3]\n",
    "LU[0,0]=0\n",
    "LU[1,1]=0\n",
    "LU[2,2]=0\n",
    "print(LU)\n",
    "\n",
    "# Matriz  b\n",
    "b=s[:,3].reshape(3,1)\n",
    "print(b)"
   ]
  },
  {
   "cell_type": "code",
   "execution_count": 6,
   "id": "f5e9ec70-3050-4193-bc9b-1dd83544df22",
   "metadata": {},
   "outputs": [
    {
     "name": "stdout",
     "output_type": "stream",
     "text": [
      "[[0.33333333]\n",
      " [1.        ]\n",
      " [1.75      ]]\n",
      "_____\n",
      "[[1.25      ]\n",
      " [0.52777778]\n",
      " [1.33333333]]\n",
      "_____\n",
      "[[0.9537037 ]\n",
      " [0.97222222]\n",
      " [0.99305556]]\n",
      "_____\n",
      "[[0.98842593]\n",
      " [0.98688272]\n",
      " [1.03009259]]\n",
      "_____\n",
      "[[1.00565844]\n",
      " [0.98611111]\n",
      " [1.00906636]]\n",
      "_____\n",
      "[[0.99839249]\n",
      " [0.99886403]\n",
      " [1.000643  ]]\n",
      "_____\n",
      "[[0.99983568]\n",
      " [0.99924983]\n",
      " [1.00108775]]\n",
      "_____\n",
      "[[1.00011253]\n",
      " [0.99958264]\n",
      " [1.0002697 ]]\n",
      "_____\n",
      "[[0.99995078]\n",
      " [0.99994761]\n",
      " [1.00004808]]\n",
      "_____\n",
      "[[0.99999856]\n",
      " [0.99996757]\n",
      " [1.00003771]]\n",
      "_____\n"
     ]
    }
   ],
   "source": [
    "#punto incial\n",
    "x=np.array([[0],[0],[0]])\n",
    "for i in range(10):\n",
    "    x=-Di@LU@x+Di@b\n",
    "    print(x)\n",
    "    print(\"_____\")"
   ]
  },
  {
   "cell_type": "code",
   "execution_count": null,
   "id": "5aaa8cc0-33f9-42c9-bb7d-91835038eb9a",
   "metadata": {},
   "outputs": [],
   "source": []
  }
 ],
 "metadata": {
  "kernelspec": {
   "display_name": "Python 3 (ipykernel)",
   "language": "python",
   "name": "python3"
  },
  "language_info": {
   "codemirror_mode": {
    "name": "ipython",
    "version": 3
   },
   "file_extension": ".py",
   "mimetype": "text/x-python",
   "name": "python",
   "nbconvert_exporter": "python",
   "pygments_lexer": "ipython3",
   "version": "3.8.8"
  }
 },
 "nbformat": 4,
 "nbformat_minor": 5
}

{
 "cells": [
  {
   "cell_type": "markdown",
   "id": "05311a9f-8275-45cd-b54e-9680e30de93a",
   "metadata": {},
   "source": [
    "## Método de SOR \n",
    "\n",
    "-El método de SOR pertenece a los métodos iterativos para resolver sistemas de ecuaciones lineales.\n",
    "-Si un proceso iterativo converge lentamente, algunas veces es posible tomar pasos más grandes para el cálculo de valores y, por tanto, acelerar la convergencia.\n",
    "\n",
    "-Si la convergencia es muy lenta, los valores calculados del proceso de Gauss Seidel se ven como valores intermedios y se usa la siguiente ecuación\n",
    "\n",
    "Ejemplo. Encuentre la solución usando el método de SOR del siguiente sistema \n",
    "  \\begin{equation*}\n",
    "  \\begin{matrix}\n",
    "   4x_1 & -4x_2 &      & =400\\\\\n",
    "   -x_1 & +4x_2 & -2x_3 &= 400\\\\ \n",
    "    & -2x_2 & +4x_3 &= 400   \n",
    "  \\end{matrix}\n",
    "  \\end{equation*}\n",
    "en forma matricial \n",
    "  \\begin{equation*}\n",
    "  \\begin{bmatrix}\n",
    "   4 & -4 & 0\\\\\n",
    "   -1& 4 & -2 \\\\ \n",
    "    0 & -2 & 4    \n",
    "  \\end{bmatrix}=\\begin{bmatrix} x_1\\\\x_2\\\\x_3 \\end{bmatrix}=\\begin{bmatrix} 400\\\\400\\\\400\\end{bmatrix}\n",
    "  \\end{equation*}\n",
    "  \n",
    "  \n",
    "  \n",
    "Aplicando Gauss Seidel se obtiene \n",
    "  \\begin{equation*}\n",
    "  \\begin{matrix}\n",
    "   \\tilde{x}_1^{(r+1)}=& 100+x_2^{(r)}\\\\\n",
    "   \\tilde{x}_2^{(r+1)}=& 100+ \\frac{ x_1^{(r+1)}}{4}+\\frac{x_3^{(r)}}{2}\\\\ \n",
    "   \\tilde{x}_3^{(r+1)}=&100+   \\frac{ x_2^{(r+1)}}{2}  \n",
    "  \\end{matrix} \n",
    "  \\end{equation*}\n",
    "  \n",
    "  \n",
    "Usando el método SOR $\\boldsymbol{X}^{(r+1)}=\\boldsymbol{X}^{(r)} + \\omega (\\boldsymbol{\\tilde{X}}^{(r+1)}- \\boldsymbol{X}^{(r)}  ) $ tenemos\n",
    "\n",
    "\n",
    "  \\begin{equation*}\n",
    "  \\begin{matrix}\n",
    "   x_1^{(r+1)}=x_1^{(r)} + \\omega \\left( [100+x_2^{(r)}]- x_1^{(r)}\\right) \\\\\n",
    "   x_2^{(r+1)}=x_2^{(r)} + \\omega \\left( [100+ \\frac{ x_1^{(r+1)}}{4}+\\frac{x_3^{(r)}}{2}]- x_2^{(r)}\\right) \\\\ \n",
    "   x_3^{(r+1)}=x_3^{(r)} + \\omega \\left( [100+   \\frac{ x_2^{(r+1)}}{2} ]- x_3^{(r)}\\right) \\\\\n",
    "  \\end{matrix} \n",
    "  \\end{equation*}"
   ]
  },
  {
   "cell_type": "code",
   "execution_count": 23,
   "id": "53cde7a4-f1f6-42ca-8562-759a125e6cfb",
   "metadata": {},
   "outputs": [
    {
     "name": "stdout",
     "output_type": "stream",
     "text": [
      "120.00 156.00 213.60\n",
      "283.20 301.92 258.43\n",
      "425.66 342.37 273.74\n",
      "445.72 349.48 274.94\n",
      "450.24 350.14 275.10\n",
      "450.12 350.07 275.02\n",
      "450.05 350.02 275.01\n",
      "450.01 350.00 275.00\n",
      "450.00 350.00 275.00\n",
      "450.00 350.00 275.00\n",
      "450.00 350.00 275.00\n",
      "450.00 350.00 275.00\n",
      "450.00 350.00 275.00\n",
      "450.00 350.00 275.00\n",
      "450.00 350.00 275.00\n",
      "450.00 350.00 275.00\n",
      "450.00 350.00 275.00\n",
      "450.00 350.00 275.00\n",
      "450.00 350.00 275.00\n",
      "450.00 350.00 275.00\n"
     ]
    }
   ],
   "source": [
    "w=1.2\n",
    "x1,x2,x3=0,0,0\n",
    "for i in range(20):\n",
    "    x1=x1+w*(100+x2-x1)\n",
    "    x2=x2+w*(100+x1/4+x3/2-x2)\n",
    "    x3=x3+w*(100+x2/2-x3)\n",
    "    print(\"%5.2f %5.2f %5.2f\"%(x1,x2,x3))"
   ]
  },
  {
   "cell_type": "code",
   "execution_count": 16,
   "id": "9f25be7a-f2ef-405a-9a6e-7d40ffb24b4f",
   "metadata": {},
   "outputs": [
    {
     "name": "stdout",
     "output_type": "stream",
     "text": [
      "399.99991138262226\n",
      "400.0010648963648\n",
      "399.9995453171862\n"
     ]
    }
   ],
   "source": [
    "#comprobación\n",
    "\n",
    "print(4*x1-4*x2)\n",
    "print(-x1+4*x2-2*x3) \n",
    "print(-2*x2+4*x3)  "
   ]
  },
  {
   "cell_type": "code",
   "execution_count": null,
   "id": "24f2e22a-375f-4a32-9c53-1a0a4c76fc60",
   "metadata": {},
   "outputs": [],
   "source": []
  }
 ],
 "metadata": {
  "kernelspec": {
   "display_name": "Python 3 (ipykernel)",
   "language": "python",
   "name": "python3"
  },
  "language_info": {
   "codemirror_mode": {
    "name": "ipython",
    "version": 3
   },
   "file_extension": ".py",
   "mimetype": "text/x-python",
   "name": "python",
   "nbconvert_exporter": "python",
   "pygments_lexer": "ipython3",
   "version": "3.8.8"
  }
 },
 "nbformat": 4,
 "nbformat_minor": 5
}

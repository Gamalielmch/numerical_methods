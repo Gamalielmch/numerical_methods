{
 "cells": [
  {
   "cell_type": "code",
   "execution_count": 12,
   "id": "59966fc1-8550-46dd-97c7-35d9ed97c03c",
   "metadata": {},
   "outputs": [],
   "source": [
    "\"\"\"  This library is for the purpose of greeting a user  \"\"\"\n",
    "def about():\n",
    "    print(\"Welcome buddy\")\n",
    "    print(\"My name is mylibrary and I can help you to :\")\n",
    "    print(\"1. Say 'hello' to any user who uses me.\")\n",
    "    print(\"2. Ask about their well being.\")\n",
    "    print(\"3. Say goodbye\")"
   ]
  },
  {
   "cell_type": "code",
   "execution_count": 13,
   "id": "9cde4093-db9f-449f-b718-e571e4b30e32",
   "metadata": {},
   "outputs": [],
   "source": [
    "\n",
    "\"\"\"     This module is to say hello to the user     \"\"\"\n",
    "\n",
    "\n",
    "def hellofunc():\n",
    "    print(\"Hello my dear friend. Thanks for calling me.\")"
   ]
  },
  {
   "cell_type": "code",
   "execution_count": 14,
   "id": "4fc571ce-c4db-4733-bca5-b16a5c7ecbad",
   "metadata": {},
   "outputs": [],
   "source": [
    "\"\"\"     This module is to ask about the well-being of the user     \"\"\"\n",
    "\n",
    "\n",
    "def askWellBeing():\n",
    "    print(\"How are you my friend? I hope you are doing great in your life.\")"
   ]
  },
  {
   "cell_type": "code",
   "execution_count": 15,
   "id": "99aa8e07-7d76-46a5-8ed4-fc3f0ddad569",
   "metadata": {},
   "outputs": [],
   "source": [
    "\n",
    "\"\"\"     This module is to say goodbye to the user     \"\"\"\n",
    "\n",
    "\n",
    "def goodbye():\n",
    "    print(\"Okay my dear friend, it's time to say good bye to you. I you'll call me again.\")"
   ]
  },
  {
   "cell_type": "code",
   "execution_count": null,
   "id": "55fd84ff-475b-47b3-a0f8-6b5d18a38522",
   "metadata": {},
   "outputs": [],
   "source": []
  }
 ],
 "metadata": {
  "kernelspec": {
   "display_name": "Python 3 (ipykernel)",
   "language": "python",
   "name": "python3"
  },
  "language_info": {
   "codemirror_mode": {
    "name": "ipython",
    "version": 3
   },
   "file_extension": ".py",
   "mimetype": "text/x-python",
   "name": "python",
   "nbconvert_exporter": "python",
   "pygments_lexer": "ipython3",
   "version": "3.8.8"
  }
 },
 "nbformat": 4,
 "nbformat_minor": 5
}

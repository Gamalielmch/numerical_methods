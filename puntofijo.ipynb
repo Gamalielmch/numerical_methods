{
 "cells": [
  {
   "cell_type": "code",
   "execution_count": 37,
   "id": "3cd5fb10-4595-4040-8cea-fd2b979f1e5e",
   "metadata": {},
   "outputs": [],
   "source": [
    "import numpy as np\n",
    "import matplotlib.pyplot as plt\n",
    "%matplotlib qt"
   ]
  },
  {
   "cell_type": "code",
   "execution_count": 38,
   "id": "9afe0a0a-689d-4099-b871-70d3b287bef6",
   "metadata": {},
   "outputs": [],
   "source": [
    "x=np.linspace(-5,5,100)\n",
    "f=x**2-2*x-3\n",
    "plt.plot(x,f)\n",
    "plt.grid()\n",
    "plt.show()"
   ]
  },
  {
   "cell_type": "code",
   "execution_count": 39,
   "id": "f3113a2b-b9bd-4979-8927-fcfad89b17ad",
   "metadata": {},
   "outputs": [
    {
     "name": "stdout",
     "output_type": "stream",
     "text": [
      "100.0\n",
      "300.0\n",
      "73.77049180327869\n",
      "199.09978931239226\n",
      "65.50650958707274\n",
      "156.7004357415479\n",
      "60.13883991466484\n",
      "132.31618754618862\n",
      "56.17189252385253\n",
      "116.11994126685654\n"
     ]
    }
   ],
   "source": [
    "# encontrar g(x)=x\n",
    "g= lambda x: (x**2-3)/2 \n",
    "xa=0\n",
    "for i in range(10):\n",
    "    xn=g(xa)\n",
    "    error= np.abs((xn-xa)/xn)*100\n",
    "    xa=xn\n",
    "    print(error)"
   ]
  },
  {
   "cell_type": "code",
   "execution_count": 40,
   "id": "4125fbf9-9d32-405d-9bbf-3138a0941aa2",
   "metadata": {},
   "outputs": [],
   "source": [
    "# Grafica\n",
    "g= lambda x: (x**2-3)/2 \n",
    "fx =lambda x: x**2-2*x-3\n",
    "xa=0\n",
    "plt.plot(x,f)\n",
    "plt.plot(xa,fx(xa),'x')\n",
    "plt.grid()\n",
    "for i in range(50):\n",
    "    xn=g(xa)\n",
    "    plt.plot(xn,fx(xn),'x')\n",
    "    xa=xn"
   ]
  },
  {
   "cell_type": "code",
   "execution_count": null,
   "id": "b227dd6b-a403-438a-b64f-39c8eb268af3",
   "metadata": {},
   "outputs": [],
   "source": []
  },
  {
   "cell_type": "code",
   "execution_count": null,
   "id": "1187f73b-3937-46db-a429-fd4cafd0301a",
   "metadata": {},
   "outputs": [],
   "source": []
  }
 ],
 "metadata": {
  "kernelspec": {
   "display_name": "Python 3 (ipykernel)",
   "language": "python",
   "name": "python3"
  },
  "language_info": {
   "codemirror_mode": {
    "name": "ipython",
    "version": 3
   },
   "file_extension": ".py",
   "mimetype": "text/x-python",
   "name": "python",
   "nbconvert_exporter": "python",
   "pygments_lexer": "ipython3",
   "version": "3.8.8"
  }
 },
 "nbformat": 4,
 "nbformat_minor": 5
}
